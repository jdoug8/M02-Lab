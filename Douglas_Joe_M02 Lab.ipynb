"""

GPA_Evaulation.py

Author: Joe Douglas

The purpose of this program is to evaluate the GPA of each student to determine if //
each student will qualify for the Dean's List or the Honor Roll.

"""

last_name = str(input("Please enter your last name or press 'ZZZ' to quit: "))       #student last name

while True:
    if last_name == "ZZZ":      #quit
        break

    first_name = str(input("Please enter yout first name: "))        #student first name

    gpa = float(input("Please enter your GPA: "))       #student GPA

    full_name = first_name + " " + last_name

    if gpa >= 3.5:
        print(full_name, "has made the Dean's List")       #test for Dean's List

    elif gpa >= 3.25 and gpa < 3.5:
        print(full_name, "has made the Honor Roll")        #test for Honor Roll

    else:
        print(full_name, "has not made Honor Roll of Dean's List yet")      #test for gpa < 3.25

    break
