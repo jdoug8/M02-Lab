{
 "cells": [
  {
   "cell_type": "code",
   "execution_count": 5,
   "metadata": {},
   "outputs": [
    {
     "name": "stdout",
     "output_type": "stream",
     "text": [
      "Joe Douglas has made the Honor Roll\n"
     ]
    }
   ],
   "source": [
    "\"\"\"\n",
    "\n",
    "GPA_Evaulation.py\n",
    "\n",
    "Author: Joe Douglas\n",
    "\n",
    "The purpose of this program is to evaluate the GPA of each student to determine if //\n",
    "each student will qualify for the Dean's List or the Honor Roll.\n",
    "\n",
    "\"\"\"\n",
    "\n",
    "last_name = str(input(\"Please enter your last name or press 'ZZZ' to quit: \"))       #student last name\n",
    "\n",
    "while True:\n",
    "    if last_name == \"ZZZ\":      #quit\n",
    "        break\n",
    "\n",
    "    first_name = str(input(\"Please enter yout first name: \"))        #student first name\n",
    "\n",
    "    gpa = float(input(\"Please enter your GPA: \"))       #student GPA\n",
    "\n",
    "    full_name = first_name + \" \" + last_name\n",
    "\n",
    "    if gpa >= 3.5:\n",
    "        print(full_name, \"has made the Dean's List\")       #test for Dean's List\n",
    "\n",
    "    elif gpa >= 3.25 and gpa < 3.5:\n",
    "        print(full_name, \"has made the Honor Roll\")        #test for Honor Roll\n",
    "\n",
    "    else:\n",
    "        print(full_name, \"has not made Honor Roll of Dean's List yet\")      #test for gpa < 3.25\n",
    "\n",
    "    break"
   ]
  }
 ],
 "metadata": {
  "kernelspec": {
   "display_name": "Python 3.11.0 64-bit",
   "language": "python",
   "name": "python3"
  },
  "language_info": {
   "codemirror_mode": {
    "name": "ipython",
    "version": 3
   },
   "file_extension": ".py",
   "mimetype": "text/x-python",
   "name": "python",
   "nbconvert_exporter": "python",
   "pygments_lexer": "ipython3",
   "version": "3.11.0"
  },
  "orig_nbformat": 4,
  "vscode": {
   "interpreter": {
    "hash": "1dad11aadd74b0f2045e349a0edfa3d5068538d92a79cb8fe1f4ceeacc3d24d9"
   }
  }
 },
 "nbformat": 4,
 "nbformat_minor": 2
}
